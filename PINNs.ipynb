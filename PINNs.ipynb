{
  "nbformat": 4,
  "nbformat_minor": 0,
  "metadata": {
    "colab": {
      "name": "Untitled0.ipynb",
      "provenance": [],
      "authorship_tag": "ABX9TyNAkWNn9HyIOMFbg2HczsEc",
      "include_colab_link": true
    },
    "kernelspec": {
      "name": "python3",
      "display_name": "Python 3"
    }
  },
  "cells": [
    {
      "cell_type": "markdown",
      "metadata": {
        "id": "view-in-github",
        "colab_type": "text"
      },
      "source": [
        "<a href=\"https://colab.research.google.com/github/prafull-bhosale/PINNs/blob/master/PINNs.ipynb\" target=\"_parent\"><img src=\"https://colab.research.google.com/assets/colab-badge.svg\" alt=\"Open In Colab\"/></a>"
      ]
    },
    {
      "cell_type": "code",
      "metadata": {
        "colab": {
          "base_uri": "https://localhost:8080/"
        },
        "id": "R-PawRKUHRHx",
        "outputId": "8d12c392-1982-49bf-ca74-1723c991029b"
      },
      "source": [
        "!git clone https://github.com/prafull-bhosale/PINNs.git"
      ],
      "execution_count": 3,
      "outputs": [
        {
          "output_type": "stream",
          "text": [
            "Cloning into 'PINNs'...\n",
            "remote: Enumerating objects: 8, done.\u001b[K\n",
            "remote: Counting objects: 100% (8/8), done.\u001b[K\n",
            "remote: Compressing objects: 100% (7/7), done.\u001b[K\n",
            "remote: Total 749 (delta 1), reused 0 (delta 0), pack-reused 741\u001b[K\n",
            "Receiving objects: 100% (749/749), 474.47 MiB | 28.03 MiB/s, done.\n",
            "Resolving deltas: 100% (67/67), done.\n",
            "Checking out files: 100% (562/562), done.\n"
          ],
          "name": "stdout"
        }
      ]
    },
    {
      "cell_type": "code",
      "metadata": {
        "id": "XmMmcNzxPhHm",
        "outputId": "7cbfee44-52a4-4010-b518-4bf518e81716",
        "colab": {
          "base_uri": "https://localhost:8080/"
        }
      },
      "source": [
        "!git pull"
      ],
      "execution_count": 3,
      "outputs": [
        {
          "output_type": "stream",
          "text": [
            "Already up to date.\n"
          ],
          "name": "stdout"
        }
      ]
    },
    {
      "cell_type": "code",
      "metadata": {
        "colab": {
          "base_uri": "https://localhost:8080/"
        },
        "id": "NKbbBgDmHnWj",
        "outputId": "675d6463-a9a5-47e6-90fd-f5d1ffd02d0f"
      },
      "source": [
        "%cd PINNs"
      ],
      "execution_count": 4,
      "outputs": [
        {
          "output_type": "stream",
          "text": [
            "/content/PINNs\n"
          ],
          "name": "stdout"
        }
      ]
    },
    {
      "cell_type": "code",
      "metadata": {
        "colab": {
          "base_uri": "https://localhost:8080/"
        },
        "id": "uhlsBwEzFyqQ",
        "outputId": "8df2c402-c08c-4afc-fbe1-7f82b604db76"
      },
      "source": [
        "!ls"
      ],
      "execution_count": 3,
      "outputs": [
        {
          "output_type": "stream",
          "text": [
            "figures  NavierStokes.py  __pycache__\n"
          ],
          "name": "stdout"
        }
      ]
    },
    {
      "cell_type": "code",
      "metadata": {
        "id": "7QjabURQM6yY",
        "outputId": "a69b46db-99c4-4296-cae0-256e0f4d2778",
        "colab": {
          "base_uri": "https://localhost:8080/"
        }
      },
      "source": [
        "%tensorflow_version 1.x"
      ],
      "execution_count": 1,
      "outputs": [
        {
          "output_type": "stream",
          "text": [
            "TensorFlow 1.x selected.\n"
          ],
          "name": "stdout"
        }
      ]
    },
    {
      "cell_type": "code",
      "metadata": {
        "colab": {
          "base_uri": "https://localhost:8080/"
        },
        "id": "MNbWPSkXGBEP",
        "outputId": "c19d49f7-8e07-4b9c-8e64-16c55ad215fa"
      },
      "source": [
        "%cd '/content/PINNs/main/continuous_time_identification (Navier-Stokes)'\r\n",
        "!python3 NavierStokes.py"
      ],
      "execution_count": 2,
      "outputs": [
        {
          "output_type": "stream",
          "text": [
            "2020-12-31 14:48:04.264236: I tensorflow/stream_executor/platform/default/dso_loader.cc:49] Successfully opened dynamic library libcudart.so.10.1\n",
            "2.4.0\n",
            "2020-12-31 14:48:06.521666: I tensorflow/compiler/jit/xla_cpu_device.cc:41] Not creating XLA devices, tf_xla_enable_xla_devices not set\n",
            "2020-12-31 14:48:06.522625: I tensorflow/stream_executor/platform/default/dso_loader.cc:49] Successfully opened dynamic library libcuda.so.1\n",
            "2020-12-31 14:48:06.531463: E tensorflow/stream_executor/cuda/cuda_driver.cc:328] failed call to cuInit: CUDA_ERROR_NO_DEVICE: no CUDA-capable device is detected\n",
            "2020-12-31 14:48:06.531503: I tensorflow/stream_executor/cuda/cuda_diagnostics.cc:156] kernel driver does not appear to be running on this host (2bda94e82ede): /proc/driver/nvidia/version does not exist\n",
            "2020-12-31 14:48:06.532068: I tensorflow/compiler/jit/xla_gpu_device.cc:99] Not creating XLA devices, tf_xla_enable_xla_devices not set\n",
            "Traceback (most recent call last):\n",
            "  File \"NavierStokes.py\", line 255, in <module>\n",
            "    model = PhysicsInformedNN(x_train, y_train, t_train, u_train, v_train, layers)\n",
            "  File \"NavierStokes.py\", line 53, in __init__\n",
            "    self.sess = tf.Session(config=tf.ConfigProto(allow_soft_placement=True,\n",
            "AttributeError: module 'tensorflow' has no attribute 'Session'\n"
          ],
          "name": "stdout"
        }
      ]
    },
    {
      "cell_type": "code",
      "metadata": {
        "id": "79sIS5NQVufX"
      },
      "source": [
        "%cd '/content/PINNs/appendix/continuous_time_identification (Burgers)'\r\n",
        "!python3 Burgers.py"
      ],
      "execution_count": null,
      "outputs": []
    }
  ]
}